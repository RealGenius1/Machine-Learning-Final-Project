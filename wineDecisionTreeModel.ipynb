{
 "cells": [
  {
   "cell_type": "markdown",
   "metadata": {},
   "source": [
    "# Decision Tree Classifier Model For Wine Data"
   ]
  },
  {
   "cell_type": "markdown",
   "metadata": {},
   "source": [
    "### Import data"
   ]
  },
  {
   "cell_type": "code",
   "execution_count": 80,
   "metadata": {},
   "outputs": [
    {
     "data": {
      "application/vnd.microsoft.datawrangler.viewer.v0+json": {
       "columns": [
        {
         "name": "index",
         "rawType": "int64",
         "type": "integer"
        },
        {
         "name": "Class",
         "rawType": "int64",
         "type": "integer"
        },
        {
         "name": "Alcohol",
         "rawType": "float64",
         "type": "float"
        },
        {
         "name": "Flavanoids",
         "rawType": "float64",
         "type": "float"
        },
        {
         "name": "Color intensity",
         "rawType": "float64",
         "type": "float"
        },
        {
         "name": "OD280/OD315 of diluted wines",
         "rawType": "float64",
         "type": "float"
        },
        {
         "name": "Proline",
         "rawType": "int64",
         "type": "integer"
        }
       ],
       "conversionMethod": "pd.DataFrame",
       "ref": "78c72576-22bc-42f9-ad21-6ecd247ec29d",
       "rows": [
        [
         "0",
         "1",
         "14.23",
         "3.06",
         "5.64",
         "3.92",
         "1065"
        ],
        [
         "1",
         "1",
         "13.2",
         "2.76",
         "4.38",
         "3.4",
         "1050"
        ],
        [
         "2",
         "1",
         "13.16",
         "3.24",
         "5.68",
         "3.17",
         "1185"
        ],
        [
         "3",
         "1",
         "14.37",
         "3.49",
         "7.8",
         "3.45",
         "1480"
        ],
        [
         "4",
         "1",
         "13.24",
         "2.69",
         "4.32",
         "2.93",
         "735"
        ],
        [
         "5",
         "1",
         "14.2",
         "3.39",
         "6.75",
         "2.85",
         "1450"
        ],
        [
         "6",
         "1",
         "14.39",
         "2.52",
         "5.25",
         "3.58",
         "1290"
        ],
        [
         "7",
         "1",
         "14.06",
         "2.51",
         "5.05",
         "3.58",
         "1295"
        ],
        [
         "8",
         "1",
         "14.83",
         "2.98",
         "5.2",
         "2.85",
         "1045"
        ],
        [
         "9",
         "1",
         "13.86",
         "3.15",
         "7.22",
         "3.55",
         "1045"
        ],
        [
         "10",
         "1",
         "14.1",
         "3.32",
         "5.75",
         "3.17",
         "1510"
        ],
        [
         "11",
         "1",
         "14.12",
         "2.43",
         "5.0",
         "2.82",
         "1280"
        ],
        [
         "12",
         "1",
         "13.75",
         "2.76",
         "5.6",
         "2.9",
         "1320"
        ],
        [
         "13",
         "1",
         "14.75",
         "3.69",
         "5.4",
         "2.73",
         "1150"
        ],
        [
         "14",
         "1",
         "14.38",
         "3.64",
         "7.5",
         "3.0",
         "1547"
        ],
        [
         "15",
         "1",
         "13.63",
         "2.91",
         "7.3",
         "2.88",
         "1310"
        ],
        [
         "16",
         "1",
         "14.3",
         "3.14",
         "6.2",
         "2.65",
         "1280"
        ],
        [
         "17",
         "1",
         "13.83",
         "3.4",
         "6.6",
         "2.57",
         "1130"
        ],
        [
         "18",
         "1",
         "14.19",
         "3.93",
         "8.7",
         "2.82",
         "1680"
        ],
        [
         "19",
         "1",
         "13.64",
         "3.03",
         "5.1",
         "3.36",
         "845"
        ],
        [
         "20",
         "1",
         "14.06",
         "3.17",
         "5.65",
         "3.71",
         "780"
        ],
        [
         "21",
         "1",
         "12.93",
         "2.41",
         "4.5",
         "3.52",
         "770"
        ],
        [
         "22",
         "1",
         "13.71",
         "2.88",
         "3.8",
         "4.0",
         "1035"
        ],
        [
         "23",
         "1",
         "12.85",
         "2.37",
         "3.93",
         "3.63",
         "1015"
        ],
        [
         "24",
         "1",
         "13.5",
         "2.61",
         "3.52",
         "3.82",
         "845"
        ],
        [
         "25",
         "1",
         "13.05",
         "2.68",
         "3.58",
         "3.2",
         "830"
        ],
        [
         "26",
         "1",
         "13.39",
         "2.94",
         "4.8",
         "3.22",
         "1195"
        ],
        [
         "27",
         "1",
         "13.3",
         "2.19",
         "3.95",
         "2.77",
         "1285"
        ],
        [
         "28",
         "1",
         "13.87",
         "2.97",
         "4.5",
         "3.4",
         "915"
        ],
        [
         "29",
         "1",
         "14.02",
         "2.33",
         "4.7",
         "3.59",
         "1035"
        ],
        [
         "30",
         "1",
         "13.73",
         "3.25",
         "5.7",
         "2.71",
         "1285"
        ],
        [
         "31",
         "1",
         "13.58",
         "3.19",
         "6.9",
         "2.88",
         "1515"
        ],
        [
         "32",
         "1",
         "13.68",
         "2.69",
         "3.84",
         "2.87",
         "990"
        ],
        [
         "33",
         "1",
         "13.76",
         "2.74",
         "5.4",
         "3.0",
         "1235"
        ],
        [
         "34",
         "1",
         "13.51",
         "2.53",
         "4.2",
         "2.87",
         "1095"
        ],
        [
         "35",
         "1",
         "13.48",
         "2.98",
         "5.1",
         "3.47",
         "920"
        ],
        [
         "36",
         "1",
         "13.28",
         "2.68",
         "4.6",
         "2.78",
         "880"
        ],
        [
         "37",
         "1",
         "13.05",
         "2.43",
         "4.25",
         "2.51",
         "1105"
        ],
        [
         "38",
         "1",
         "13.07",
         "2.64",
         "3.7",
         "2.69",
         "1020"
        ],
        [
         "39",
         "1",
         "14.22",
         "3.04",
         "5.1",
         "3.53",
         "760"
        ],
        [
         "40",
         "1",
         "13.56",
         "3.29",
         "6.13",
         "3.38",
         "795"
        ],
        [
         "41",
         "1",
         "13.41",
         "2.68",
         "4.28",
         "3.0",
         "1035"
        ],
        [
         "42",
         "1",
         "13.88",
         "3.56",
         "5.43",
         "3.56",
         "1095"
        ],
        [
         "43",
         "1",
         "13.24",
         "2.63",
         "4.36",
         "3.0",
         "680"
        ],
        [
         "44",
         "1",
         "13.05",
         "3.0",
         "5.04",
         "3.35",
         "885"
        ],
        [
         "45",
         "1",
         "14.21",
         "2.65",
         "5.24",
         "3.33",
         "1080"
        ],
        [
         "46",
         "1",
         "14.38",
         "3.17",
         "4.9",
         "3.44",
         "1065"
        ],
        [
         "47",
         "1",
         "13.9",
         "3.39",
         "6.1",
         "3.33",
         "985"
        ],
        [
         "48",
         "1",
         "14.1",
         "2.92",
         "6.2",
         "2.75",
         "1060"
        ],
        [
         "49",
         "1",
         "13.94",
         "3.54",
         "8.9",
         "3.1",
         "1260"
        ]
       ],
       "shape": {
        "columns": 6,
        "rows": 178
       }
      },
      "text/html": [
       "<div>\n",
       "<style scoped>\n",
       "    .dataframe tbody tr th:only-of-type {\n",
       "        vertical-align: middle;\n",
       "    }\n",
       "\n",
       "    .dataframe tbody tr th {\n",
       "        vertical-align: top;\n",
       "    }\n",
       "\n",
       "    .dataframe thead th {\n",
       "        text-align: right;\n",
       "    }\n",
       "</style>\n",
       "<table border=\"1\" class=\"dataframe\">\n",
       "  <thead>\n",
       "    <tr style=\"text-align: right;\">\n",
       "      <th></th>\n",
       "      <th>Class</th>\n",
       "      <th>Alcohol</th>\n",
       "      <th>Flavanoids</th>\n",
       "      <th>Color intensity</th>\n",
       "      <th>OD280/OD315 of diluted wines</th>\n",
       "      <th>Proline</th>\n",
       "    </tr>\n",
       "  </thead>\n",
       "  <tbody>\n",
       "    <tr>\n",
       "      <th>0</th>\n",
       "      <td>1</td>\n",
       "      <td>14.23</td>\n",
       "      <td>3.06</td>\n",
       "      <td>5.64</td>\n",
       "      <td>3.92</td>\n",
       "      <td>1065</td>\n",
       "    </tr>\n",
       "    <tr>\n",
       "      <th>1</th>\n",
       "      <td>1</td>\n",
       "      <td>13.20</td>\n",
       "      <td>2.76</td>\n",
       "      <td>4.38</td>\n",
       "      <td>3.40</td>\n",
       "      <td>1050</td>\n",
       "    </tr>\n",
       "    <tr>\n",
       "      <th>2</th>\n",
       "      <td>1</td>\n",
       "      <td>13.16</td>\n",
       "      <td>3.24</td>\n",
       "      <td>5.68</td>\n",
       "      <td>3.17</td>\n",
       "      <td>1185</td>\n",
       "    </tr>\n",
       "    <tr>\n",
       "      <th>3</th>\n",
       "      <td>1</td>\n",
       "      <td>14.37</td>\n",
       "      <td>3.49</td>\n",
       "      <td>7.80</td>\n",
       "      <td>3.45</td>\n",
       "      <td>1480</td>\n",
       "    </tr>\n",
       "    <tr>\n",
       "      <th>4</th>\n",
       "      <td>1</td>\n",
       "      <td>13.24</td>\n",
       "      <td>2.69</td>\n",
       "      <td>4.32</td>\n",
       "      <td>2.93</td>\n",
       "      <td>735</td>\n",
       "    </tr>\n",
       "    <tr>\n",
       "      <th>...</th>\n",
       "      <td>...</td>\n",
       "      <td>...</td>\n",
       "      <td>...</td>\n",
       "      <td>...</td>\n",
       "      <td>...</td>\n",
       "      <td>...</td>\n",
       "    </tr>\n",
       "    <tr>\n",
       "      <th>173</th>\n",
       "      <td>3</td>\n",
       "      <td>13.71</td>\n",
       "      <td>0.61</td>\n",
       "      <td>7.70</td>\n",
       "      <td>1.74</td>\n",
       "      <td>740</td>\n",
       "    </tr>\n",
       "    <tr>\n",
       "      <th>174</th>\n",
       "      <td>3</td>\n",
       "      <td>13.40</td>\n",
       "      <td>0.75</td>\n",
       "      <td>7.30</td>\n",
       "      <td>1.56</td>\n",
       "      <td>750</td>\n",
       "    </tr>\n",
       "    <tr>\n",
       "      <th>175</th>\n",
       "      <td>3</td>\n",
       "      <td>13.27</td>\n",
       "      <td>0.69</td>\n",
       "      <td>10.20</td>\n",
       "      <td>1.56</td>\n",
       "      <td>835</td>\n",
       "    </tr>\n",
       "    <tr>\n",
       "      <th>176</th>\n",
       "      <td>3</td>\n",
       "      <td>13.17</td>\n",
       "      <td>0.68</td>\n",
       "      <td>9.30</td>\n",
       "      <td>1.62</td>\n",
       "      <td>840</td>\n",
       "    </tr>\n",
       "    <tr>\n",
       "      <th>177</th>\n",
       "      <td>3</td>\n",
       "      <td>14.13</td>\n",
       "      <td>0.76</td>\n",
       "      <td>9.20</td>\n",
       "      <td>1.60</td>\n",
       "      <td>560</td>\n",
       "    </tr>\n",
       "  </tbody>\n",
       "</table>\n",
       "<p>178 rows × 6 columns</p>\n",
       "</div>"
      ],
      "text/plain": [
       "     Class  Alcohol  Flavanoids  Color intensity  \\\n",
       "0        1    14.23        3.06             5.64   \n",
       "1        1    13.20        2.76             4.38   \n",
       "2        1    13.16        3.24             5.68   \n",
       "3        1    14.37        3.49             7.80   \n",
       "4        1    13.24        2.69             4.32   \n",
       "..     ...      ...         ...              ...   \n",
       "173      3    13.71        0.61             7.70   \n",
       "174      3    13.40        0.75             7.30   \n",
       "175      3    13.27        0.69            10.20   \n",
       "176      3    13.17        0.68             9.30   \n",
       "177      3    14.13        0.76             9.20   \n",
       "\n",
       "     OD280/OD315 of diluted wines  Proline  \n",
       "0                            3.92     1065  \n",
       "1                            3.40     1050  \n",
       "2                            3.17     1185  \n",
       "3                            3.45     1480  \n",
       "4                            2.93      735  \n",
       "..                            ...      ...  \n",
       "173                          1.74      740  \n",
       "174                          1.56      750  \n",
       "175                          1.56      835  \n",
       "176                          1.62      840  \n",
       "177                          1.60      560  \n",
       "\n",
       "[178 rows x 6 columns]"
      ]
     },
     "execution_count": 80,
     "metadata": {},
     "output_type": "execute_result"
    }
   ],
   "source": [
    "import pandas as pd\n",
    "import numpy as np\n",
    "import matplotlib.pyplot as plt\n",
    "\n",
    "# Load the CSV file\n",
    "wine_data = pd.read_csv(\"preprocessed_wine.csv\")\n",
    "wine_data"
   ]
  },
  {
   "cell_type": "markdown",
   "metadata": {},
   "source": [
    "Start by including all features in the model."
   ]
  },
  {
   "cell_type": "code",
   "execution_count": 96,
   "metadata": {},
   "outputs": [
    {
     "data": {
      "text/plain": [
       "{'max_depth': 14}"
      ]
     },
     "metadata": {},
     "output_type": "display_data"
    },
    {
     "data": {
      "text/plain": [
       "1.0"
      ]
     },
     "metadata": {},
     "output_type": "display_data"
    },
    {
     "data": {
      "text/plain": [
       "0.8611111111111112"
      ]
     },
     "metadata": {},
     "output_type": "display_data"
    }
   ],
   "source": [
    "from sklearn.model_selection import train_test_split, cross_val_score\n",
    "from sklearn.tree import DecisionTreeClassifier\n",
    "from sklearn.model_selection import GridSearchCV\n",
    "\n",
    "X = wine_data.loc[:,[\"Alcohol\", \"Flavanoids\", \"Color intensity\", \"OD280/OD315 of diluted wines\", \"Proline\"]]\n",
    "y = wine_data.loc[:,\"Class\"]\n",
    "\n",
    "X_train, X_test, y_train, y_test = train_test_split(X, y, test_size=0.2, random_state=20250428)\n",
    "\n",
    "# Grid CV \n",
    "param = {\n",
    "    \"max_depth\": range(1, 20)\n",
    "}\n",
    "\n",
    "# Initialize model \n",
    "tree_classifier = DecisionTreeClassifier()\n",
    "\n",
    "gs_tree = GridSearchCV(tree_classifier, \n",
    "                        param_grid = param,\n",
    "                        scoring=\"accuracy\",\n",
    "                        cv=5,\n",
    "                       )\n",
    "\n",
    "gs_tree.fit(X_train, y_train)\n",
    "\n",
    "display(gs_tree.best_params_)\n",
    "\n",
    "display(gs_tree.score(X_train, y_train))\n",
    "display(gs_tree.score(X_test, y_test))"
   ]
  },
  {
   "cell_type": "markdown",
   "metadata": {},
   "source": [
    "This model is overfitted as shown by the 100% training accuracy and 86% testing accuracy. To prevent this, I'll see how a model with a lower max depth performs."
   ]
  },
  {
   "cell_type": "code",
   "execution_count": 98,
   "metadata": {},
   "outputs": [
    {
     "data": {
      "image/png": "[encoded data removed]",
      "text/plain": [
       "<Figure size 640x480 with 1 Axes>"
      ]
     },
     "metadata": {},
     "output_type": "display_data"
    }
   ],
   "source": [
    "max_depth_values = range(1, 20)\n",
    "\n",
    "# Use this to store our results\n",
    "scores = np.ones((len(max_depth_values), 5))\n",
    "\n",
    "for (i, max_depth_candidate) in enumerate(max_depth_values):\n",
    "  # Initializing our model with the given C value \n",
    "  model = DecisionTreeClassifier(max_depth=max_depth_candidate, random_state=20250428)\n",
    "  current_scores = cross_val_score(model, X, y, cv=5)\n",
    "  scores[i] = current_scores\n",
    "\n",
    "plt.boxplot(scores.T)\n",
    "plt.ylabel(\"Accuracy\")\n",
    "plt.xlabel(\"Max Depth\")\n",
    "plt.show()\n"
   ]
  },
  {
   "cell_type": "markdown",
   "metadata": {},
   "source": [
    "The boxplot shows that a max depth of 4 may be more favorable, so lets try that."
   ]
  },
  {
   "cell_type": "code",
   "execution_count": 99,
   "metadata": {},
   "outputs": [
    {
     "name": "stdout",
     "output_type": "stream",
     "text": [
      "Testing accuracy: 86.11%\n"
     ]
    }
   ],
   "source": [
    "X = wine_data.loc[:,[\"Alcohol\", \"Flavanoids\", \"Color intensity\", \"OD280/OD315 of diluted wines\", \"Proline\"]]\n",
    "y = wine_data.loc[:,\"Class\"]\n",
    "\n",
    "X_train, X_test, y_train, y_test = train_test_split(X, y, test_size=0.2, random_state=20250428)\n",
    "\n",
    "# Initialize model\n",
    "model = DecisionTreeClassifier(max_depth=4)\n",
    "model.fit(X_train, y_train)\n",
    "\n",
    "# Test accuracy\n",
    "accuracy = model.score(X_test, y_test)\n",
    "\n",
    "# Print final accuracy\n",
    "print(\"Testing accuracy: %0.2f%%\" % (accuracy*100))"
   ]
  },
  {
   "cell_type": "markdown",
   "metadata": {},
   "source": [
    "Still, the best testing accuracy is 86%, so I will try lowering the number of included features.\n",
    "The following plots seemed to differentiate the classes best, so I will test them:\n",
    "- Proline vs OD280/OD315 of diluted wines\n",
    "- Proline vs Flavanoids\n",
    "- Flavanoids vs Color Intensity"
   ]
  },
  {
   "cell_type": "markdown",
   "metadata": {},
   "source": [
    "### Proline vs OD280/OD315 of diluted wines"
   ]
  },
  {
   "cell_type": "code",
   "execution_count": 83,
   "metadata": {},
   "outputs": [
    {
     "data": {
      "text/plain": [
       "{'max_depth': 2}"
      ]
     },
     "metadata": {},
     "output_type": "display_data"
    },
    {
     "data": {
      "text/plain": [
       "0.9295774647887324"
      ]
     },
     "metadata": {},
     "output_type": "display_data"
    },
    {
     "data": {
      "text/plain": [
       "0.8611111111111112"
      ]
     },
     "metadata": {},
     "output_type": "display_data"
    }
   ],
   "source": [
    "X = wine_data.loc[:,[\"Proline\", \"OD280/OD315 of diluted wines\"]]\n",
    "y = wine_data.loc[:,\"Class\"]\n",
    "\n",
    "X_train, X_test, y_train, y_test = train_test_split(X, y, test_size=0.2, random_state=20250428)\n",
    "\n",
    "# Grid CV \n",
    "param = {\n",
    "    \"max_depth\": range(1, 20)\n",
    "}\n",
    "\n",
    "# Initialize model \n",
    "tree_classifier = DecisionTreeClassifier()\n",
    "\n",
    "gs_tree = GridSearchCV(tree_classifier, \n",
    "                        param_grid = param,\n",
    "                        scoring=\"accuracy\",\n",
    "                        cv=5,\n",
    "                       )\n",
    "\n",
    "gs_tree.fit(X_train, y_train)\n",
    "\n",
    "display(gs_tree.best_params_)\n",
    "\n",
    "display(gs_tree.score(X_train, y_train))\n",
    "display(gs_tree.score(X_test, y_test))"
   ]
  },
  {
   "cell_type": "markdown",
   "metadata": {},
   "source": [
    "This model is less overfit and less complex, but did not perform better than the previous model."
   ]
  },
  {
   "cell_type": "markdown",
   "metadata": {},
   "source": [
    "### Proline vs Flavanoids"
   ]
  },
  {
   "cell_type": "code",
   "execution_count": 84,
   "metadata": {},
   "outputs": [
    {
     "data": {
      "text/plain": [
       "{'max_depth': 3}"
      ]
     },
     "metadata": {},
     "output_type": "display_data"
    },
    {
     "data": {
      "text/plain": [
       "0.9295774647887324"
      ]
     },
     "metadata": {},
     "output_type": "display_data"
    },
    {
     "data": {
      "text/plain": [
       "0.9166666666666666"
      ]
     },
     "metadata": {},
     "output_type": "display_data"
    }
   ],
   "source": [
    "X = wine_data.loc[:,[\"Proline\", \"Flavanoids\"]]\n",
    "y = wine_data.loc[:,\"Class\"]\n",
    "\n",
    "X_train, X_test, y_train, y_test = train_test_split(X, y, test_size=0.2, random_state=20250428)\n",
    "\n",
    "# Grid CV \n",
    "param = {\n",
    "    \"max_depth\": range(1, 20)\n",
    "}\n",
    "\n",
    "# Initialize model \n",
    "tree_classifier = DecisionTreeClassifier()\n",
    "\n",
    "gs_tree = GridSearchCV(tree_classifier, \n",
    "                        param_grid = param,\n",
    "                        scoring=\"accuracy\",\n",
    "                        cv=5,\n",
    "                       )\n",
    "\n",
    "gs_tree.fit(X_train, y_train)\n",
    "\n",
    "display(gs_tree.best_params_)\n",
    "\n",
    "display(gs_tree.score(X_train, y_train))\n",
    "display(gs_tree.score(X_test, y_test))"
   ]
  },
  {
   "cell_type": "markdown",
   "metadata": {},
   "source": [
    "This model is a strong contender thus far since it is simple, not overfit, and has the highest testing accuracy."
   ]
  },
  {
   "cell_type": "markdown",
   "metadata": {},
   "source": [
    "### Flavanoids vs Color Intensity"
   ]
  },
  {
   "cell_type": "code",
   "execution_count": 85,
   "metadata": {},
   "outputs": [
    {
     "data": {
      "text/plain": [
       "{'max_depth': 3}"
      ]
     },
     "metadata": {},
     "output_type": "display_data"
    },
    {
     "data": {
      "text/plain": [
       "0.9647887323943662"
      ]
     },
     "metadata": {},
     "output_type": "display_data"
    },
    {
     "data": {
      "text/plain": [
       "0.9166666666666666"
      ]
     },
     "metadata": {},
     "output_type": "display_data"
    }
   ],
   "source": [
    "X = wine_data.loc[:,[\"Color intensity\", \"Flavanoids\"]]\n",
    "y = wine_data.loc[:,\"Class\"]\n",
    "\n",
    "X_train, X_test, y_train, y_test = train_test_split(X, y, test_size=0.2, random_state=20250428)\n",
    "\n",
    "# Grid CV \n",
    "param = {\n",
    "    \"max_depth\": range(1, 20)\n",
    "}\n",
    "\n",
    "# Initialize model \n",
    "tree_classifier = DecisionTreeClassifier()\n",
    "\n",
    "gs_tree = GridSearchCV(tree_classifier, \n",
    "                        param_grid = param,\n",
    "                        scoring=\"accuracy\",\n",
    "                        cv=5,\n",
    "                       )\n",
    "\n",
    "gs_tree.fit(X_train, y_train)\n",
    "\n",
    "display(gs_tree.best_params_)\n",
    "\n",
    "display(gs_tree.score(X_train, y_train))\n",
    "display(gs_tree.score(X_test, y_test))"
   ]
  },
  {
   "cell_type": "markdown",
   "metadata": {},
   "source": [
    "This model produced the same high accuracy as the previous model, but is more complex and shows more signs of possible overfitting.\n",
    "Next, I will try a model with 3 features instead of just 2. Because Proline vs Flavanoids produced the best model, I will try these two with a third feature included."
   ]
  },
  {
   "cell_type": "code",
   "execution_count": 95,
   "metadata": {},
   "outputs": [
    {
     "data": {
      "text/plain": [
       "{'max_depth': 4}"
      ]
     },
     "metadata": {},
     "output_type": "display_data"
    },
    {
     "data": {
      "text/plain": [
       "1.0"
      ]
     },
     "metadata": {},
     "output_type": "display_data"
    },
    {
     "data": {
      "text/plain": [
       "0.9722222222222222"
      ]
     },
     "metadata": {},
     "output_type": "display_data"
    }
   ],
   "source": [
    "X = wine_data.loc[:,[\"Proline\", \"Flavanoids\", \"Color intensity\"]]\n",
    "y = wine_data.loc[:,\"Class\"]\n",
    "\n",
    "X_train, X_test, y_train, y_test = train_test_split(X, y, test_size=0.2, random_state=20250428)\n",
    "\n",
    "# Grid CV \n",
    "param = {\n",
    "    \"max_depth\": range(1, 20)\n",
    "}\n",
    "\n",
    "# Initialize model \n",
    "tree_classifier = DecisionTreeClassifier()\n",
    "\n",
    "gs_tree = GridSearchCV(tree_classifier, \n",
    "                        param_grid = param,\n",
    "                        scoring=\"accuracy\",\n",
    "                        cv=5,\n",
    "                       )\n",
    "\n",
    "gs_tree.fit(X_train, y_train)\n",
    "\n",
    "display(gs_tree.best_params_)\n",
    "\n",
    "display(gs_tree.score(X_train, y_train))\n",
    "display(gs_tree.score(X_test, y_test))"
   ]
  },
  {
   "cell_type": "markdown",
   "metadata": {},
   "source": [
    "This is our best model thus far as it has produced the highest training accuracy, doesn't appear to be very overfit, and is relatively simple. Let's plot cross validation scores to verify that a max depth of 4 is the best choice for this model."
   ]
  },
  {
   "cell_type": "code",
   "execution_count": 87,
   "metadata": {},
   "outputs": [
    {
     "data": {
      "image/png": "[encoded data removed]",
      "text/plain": [
       "<Figure size 640x480 with 1 Axes>"
      ]
     },
     "metadata": {},
     "output_type": "display_data"
    }
   ],
   "source": [
    "max_depth_values = range(1, 20)\n",
    "\n",
    "# Use this to store our results\n",
    "scores = np.ones((len(max_depth_values), 5))\n",
    "\n",
    "for (i, max_depth_candidate) in enumerate(max_depth_values):\n",
    "  # Initializing our model with the given C value \n",
    "  model = DecisionTreeClassifier(max_depth=max_depth_candidate, random_state=20250428)\n",
    "  current_scores = cross_val_score(model, X, y, cv=5)\n",
    "  scores[i] = current_scores\n",
    "\n",
    "plt.boxplot(scores.T)\n",
    "plt.show()"
   ]
  },
  {
   "cell_type": "markdown",
   "metadata": {},
   "source": [
    "The boxplots confirm that 4 is the best max depth for this model as it has the highest average accuracy with the simplest complexity."
   ]
  },
  {
   "cell_type": "code",
   "execution_count": 88,
   "metadata": {},
   "outputs": [
    {
     "data": {
      "text/plain": [
       "{'max_depth': 3}"
      ]
     },
     "metadata": {},
     "output_type": "display_data"
    },
    {
     "data": {
      "text/plain": [
       "0.9647887323943662"
      ]
     },
     "metadata": {},
     "output_type": "display_data"
    },
    {
     "data": {
      "text/plain": [
       "0.8333333333333334"
      ]
     },
     "metadata": {},
     "output_type": "display_data"
    }
   ],
   "source": [
    "X = wine_data.loc[:,[\"Proline\", \"Flavanoids\", \"OD280/OD315 of diluted wines\"]]\n",
    "y = wine_data.loc[:,\"Class\"]\n",
    "\n",
    "X_train, X_test, y_train, y_test = train_test_split(X, y, test_size=0.2, random_state=20250428)\n",
    "\n",
    "# Grid CV \n",
    "param = {\n",
    "    \"max_depth\": range(1, 20)\n",
    "}\n",
    "\n",
    "# Initialize model \n",
    "tree_classifier = DecisionTreeClassifier()\n",
    "\n",
    "gs_tree = GridSearchCV(tree_classifier, \n",
    "                        param_grid = param,\n",
    "                        scoring=\"accuracy\",\n",
    "                        cv=5,\n",
    "                       )\n",
    "\n",
    "gs_tree.fit(X_train, y_train)\n",
    "\n",
    "display(gs_tree.best_params_)\n",
    "\n",
    "display(gs_tree.score(X_train, y_train))\n",
    "display(gs_tree.score(X_test, y_test))"
   ]
  },
  {
   "cell_type": "markdown",
   "metadata": {},
   "source": [
    "This model shows more signs of overfitting and has a lower testing accuracy than the previous model."
   ]
  },
  {
   "cell_type": "code",
   "execution_count": 89,
   "metadata": {},
   "outputs": [
    {
     "data": {
      "text/plain": [
       "{'max_depth': 8}"
      ]
     },
     "metadata": {},
     "output_type": "display_data"
    },
    {
     "data": {
      "text/plain": [
       "1.0"
      ]
     },
     "metadata": {},
     "output_type": "display_data"
    },
    {
     "data": {
      "text/plain": [
       "0.9166666666666666"
      ]
     },
     "metadata": {},
     "output_type": "display_data"
    }
   ],
   "source": [
    "X = wine_data.loc[:,[\"Proline\", \"Flavanoids\", \"Alcohol\"]]\n",
    "y = wine_data.loc[:,\"Class\"]\n",
    "\n",
    "X_train, X_test, y_train, y_test = train_test_split(X, y, test_size=0.2, random_state=20250428)\n",
    "\n",
    "# Grid CV \n",
    "param = {\n",
    "    \"max_depth\": range(1, 20)\n",
    "}\n",
    "\n",
    "# Initialize model \n",
    "tree_classifier = DecisionTreeClassifier()\n",
    "\n",
    "gs_tree = GridSearchCV(tree_classifier, \n",
    "                        param_grid = param,\n",
    "                        scoring=\"accuracy\",\n",
    "                        cv=5,\n",
    "                       )\n",
    "\n",
    "gs_tree.fit(X_train, y_train)\n",
    "\n",
    "display(gs_tree.best_params_)\n",
    "\n",
    "display(gs_tree.score(X_train, y_train))\n",
    "display(gs_tree.score(X_test, y_test))"
   ]
  },
  {
   "cell_type": "markdown",
   "metadata": {},
   "source": [
    "This model again shows more signs of possible overfitting and didn't perform as well as a previous model."
   ]
  },
  {
   "cell_type": "markdown",
   "metadata": {},
   "source": [
    "### Based on these observations, the best model appears to be the one including the `Proline`, `Flavanoids`, and `Color intenisty` attributes, with a max depth of 4. So, let's train this model using the full training set."
   ]
  },
  {
   "cell_type": "code",
   "execution_count": 102,
   "metadata": {},
   "outputs": [
    {
     "name": "stdout",
     "output_type": "stream",
     "text": [
      "Our final testing accuracy is: 97.22%\n"
     ]
    }
   ],
   "source": [
    "# Chosen attributes\n",
    "X = wine_data.loc[:,[\"Proline\", \"Flavanoids\", \"Color intensity\"]]\n",
    "y = wine_data.loc[:,\"Class\"]\n",
    "\n",
    "X_train, X_test, y_train, y_test = train_test_split(X, y, test_size=0.2, random_state=20250428)\n",
    "\n",
    "# Initialize model\n",
    "model = DecisionTreeClassifier(max_depth=4)\n",
    "model.fit(X_train, y_train)\n",
    "\n",
    "# Test accuracy\n",
    "accuracy = model.score(X_test, y_test)\n",
    "\n",
    "# Print final accuracy\n",
    "print(\"Our final testing accuracy is: %0.2f%%\" % (accuracy*100))"
   ]
  },
  {
   "cell_type": "markdown",
   "metadata": {},
   "source": [
    "This is a very high training accuracy that allows us to accept our hypothesis that the class of wine can be determined by it's chemical makeup and physical attributes."
   ]
  },
  {
   "cell_type": "markdown",
   "metadata": {},
   "source": [
    "### Visualize the model"
   ]
  },
  {
   "cell_type": "code",
   "execution_count": null,
   "metadata": {},
   "outputs": [
    {
     "data": {
      "image/png": "[encoded data removed]",
      "text/plain": [
       "<Figure size 2000x1000 with 1 Axes>"
      ]
     },
     "metadata": {},
     "output_type": "display_data"
    }
   ],
   "source": [
    "from sklearn.tree import plot_tree\n",
    "import matplotlib.patches as mpatches\n",
    "\n",
    "# Set up the figure\n",
    "plt.figure(figsize=(20, 10))\n",
    "\n",
    "# Plot the tree\n",
    "plot_tree(\n",
    "    model,\n",
    "    feature_names=X.columns,\n",
    "    class_names=[\"Class 1\", \"Class 2\", \"Class 3\"],\n",
    "    filled=True,\n",
    "    fontsize=10\n",
    ")\n",
    "\n",
    "legend_labels = [\n",
    "    mpatches.Patch(color='#FFBBBB', label='Class 1'),\n",
    "    mpatches.Patch(color='#BBFFBB', label='Class 2'),\n",
    "    mpatches.Patch(color='#BBBBFF', label='Class 3')\n",
    "]\n",
    "\n",
    "plt.legend(handles=legend_labels, title='Classes')\n",
    "\n",
    "plt.title(\"Decision Tree Visualization\")\n",
    "plt.show()"
   ]
  },
  {
   "cell_type": "markdown",
   "metadata": {},
   "source": [
    "### Show efficacy of model using a confusion matrix"
   ]
  },
  {
   "cell_type": "code",
   "execution_count": 103,
   "metadata": {},
   "outputs": [
    {
     "data": {
      "image/png": "[encoded data removed]",
      "text/plain": [
       "<Figure size 800x600 with 1 Axes>"
      ]
     },
     "metadata": {},
     "output_type": "display_data"
    }
   ],
   "source": [
    "import seaborn as sns\n",
    "from sklearn.metrics import confusion_matrix\n",
    "\n",
    "# Make predictions on the test set\n",
    "y_pred = model.predict(X_test)\n",
    "\n",
    "# Compute the confusion matrix\n",
    "cm = confusion_matrix(y_test, y_pred)\n",
    "\n",
    "# Plot the confusion matrix using seaborn heatmap\n",
    "plt.figure(figsize=(8, 6))\n",
    "sns.heatmap(cm, annot=True, fmt='d', cmap='Blues', xticklabels=model.classes_, yticklabels=model.classes_, cbar=False)\n",
    "plt.title('Confusion Matrix')\n",
    "plt.xlabel('Predicted Class')\n",
    "plt.ylabel('True Class')\n",
    "plt.show()"
   ]
  },
  {
   "cell_type": "markdown",
   "metadata": {},
   "source": [
    "As shown above in the confusion matrix, the model correctly classified all but one data point in the testing set."
   ]
  }
 ],
 "metadata": {
  "kernelspec": {
   "display_name": "base",
   "language": "python",
   "name": "python3"
  },
  "language_info": {
   "codemirror_mode": {
    "name": "ipython",
    "version": 3
   },
   "file_extension": ".py",
   "mimetype": "text/x-python",
   "name": "python",
   "nbconvert_exporter": "python",
   "pygments_lexer": "ipython3",
   "version": "3.12.7"
  }
 },
 "nbformat": 4,
 "nbformat_minor": 2
}
